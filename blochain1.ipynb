{
 "cells": [
  {
   "cell_type": "code",
   "execution_count": 10,
   "metadata": {},
   "outputs": [
    {
     "name": "stdout",
     "output_type": "stream",
     "text": [
      "enter no of blocks :\n",
      "5\n",
      "enter text\n",
      "\n",
      "hi\n",
      "enter text\n",
      "\n",
      "hello\n",
      "enter text\n",
      "\n",
      "kkk\n",
      "enter text\n",
      "\n",
      "hh\n",
      "[[0, datetime.datetime(2018, 5, 16, 13, 30, 0, 960751), 'hello', 0, '0728440dffff690b2a54e48d3a6a4e1436687b5d42f1e2b184ffd0f39eeb82b9'], [1, datetime.datetime(2018, 5, 16, 13, 30, 3, 741836), 'hi', '0728440dffff690b2a54e48d3a6a4e1436687b5d42f1e2b184ffd0f39eeb82b9', '7051cce661959d6d84dc292c61e4d101c6d4b33d04320280eb065f9ccda8a73a'], [2, datetime.datetime(2018, 5, 16, 13, 30, 7, 434710), 'hello', '7051cce661959d6d84dc292c61e4d101c6d4b33d04320280eb065f9ccda8a73a', '144a24a0d7e548fc1363924e07875f14dfb23606f3e0927dc11c026cf73c5b3c'], [3, datetime.datetime(2018, 5, 16, 13, 30, 9, 275910), 'kkk', '144a24a0d7e548fc1363924e07875f14dfb23606f3e0927dc11c026cf73c5b3c', '46887a68589b74facc1def3223d3ac9bb5cc4f9ead865246f1854c0b228929ac'], [4, datetime.datetime(2018, 5, 16, 13, 30, 10, 518580), 'hh', '46887a68589b74facc1def3223d3ac9bb5cc4f9ead865246f1854c0b228929ac', '68271c39f3acc406820aa7ab784287eabed99727a76e60d466d018b25883bffa']]\n"
     ]
    }
   ],
   "source": [
    "import datetime\n",
    "import hashlib\n",
    "class block:\n",
    "    def __init__(self,index,time,data,prehash):\n",
    "        self.index=index\n",
    "        self.time=datetime.datetime.now()\n",
    "        self.data=data\n",
    "        self.prehash=prehash\n",
    "    def get_block_hash(self):\n",
    "        hash_code = \"{}{}{}{}\".format(self.index, self.time, self.data, self.prehash)\n",
    "        x= hashlib.sha256(hash_code.encode('utf-8')).hexdigest()\n",
    "        return x\n",
    "    \n",
    "def genesis_block():\n",
    "    b=block(0,datetime.datetime.now(),'hello',0)\n",
    "    h=b.get_block_hash()\n",
    "    a=[b.index,b.time,b.data,b.prehash,h]\n",
    "    return a\n",
    "    \n",
    "\n",
    "def create_block(index,time,data,prehash):\n",
    "    b=block(index,time,data,prehash)\n",
    "    ph=b.get_block_hash()\n",
    "    a=[b.index,b.time,b.data,b.prehash,ph]\n",
    "    return a\n",
    "    \n",
    "    \n",
    "chain=[]\n",
    "print ('enter no of blocks :')\n",
    "n=int(input())\n",
    "ph=0\n",
    "a=[]\n",
    "for i in range(0,n):\n",
    "  if i==0 :\n",
    "        a=genesis_block()\n",
    "        chain.append(a) \n",
    "        ph=a[4]\n",
    "  else :\n",
    "        print ('enter text\\n')\n",
    "        text=input ()\n",
    "        a=create_block(i,datetime.datetime.now(),text,ph)\n",
    "        chain.append(a)\n",
    "        ph=a[4]\n",
    "print (chain)      "
   ]
  },
  {
   "cell_type": "code",
   "execution_count": null,
   "metadata": {},
   "outputs": [],
   "source": []
  }
 ],
 "metadata": {
  "kernelspec": {
   "display_name": "Python 3",
   "language": "python",
   "name": "python3"
  },
  "language_info": {
   "codemirror_mode": {
    "name": "ipython",
    "version": 3
   },
   "file_extension": ".py",
   "mimetype": "text/x-python",
   "name": "python",
   "nbconvert_exporter": "python",
   "pygments_lexer": "ipython3",
   "version": "3.6.4"
  }
 },
 "nbformat": 4,
 "nbformat_minor": 2
}
