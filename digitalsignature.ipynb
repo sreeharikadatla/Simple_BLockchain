{
 "cells": [
  {
   "cell_type": "code",
   "execution_count": 1,
   "metadata": {},
   "outputs": [
    {
     "name": "stdout",
     "output_type": "stream",
     "text": [
      "########Private KEY ################/n\n",
      "3082025c02010002818100f24d513261327e4167b48f26d8ed6ee579bdac0098761f0c74d1efb3bb8b0bfc15fba7cbbb7e0e288d1c544917db67b318b535061d2b1f3262a0e6521798b123502e0944e9b45434eea2a1c69d72c5e33730a84c4865be7472fe12722261daed8f0d90523f979c8cb70849ad15f57d201b8dd5e0262f739926db99aff96669f102030100010281807f3eed6248bb0ca4ea825f1f2692e2472ebcd604660cba577f4df4d4edaba2fa9accd31ce1f4dc189daa7ff4f6cb69551ba7a615f4e17d7ba7621a328863ceb9d8251978d046da705acdcdf20c1c59ad6072c0baceb3e765cbf0435c1e2861ffc3a5e17162f6e9b0413d577bb64611f1fe39c3120c4e52cb1fe4b875844c63b5024100f26b3326936f6bd31d54e34742f8c14d109ac45f69cebc687ebb78982e5a02e72888c404c21364a738fb5d1498a53d7591ecab4c8e67a4984e21f2925764a1a3024100ffe0717733edf704d6a68b04d6b2e45074396cc8a09fdfa1e7cb16e638ef2b93b89ddb4bcc7e2e5decb0652ee06447317154b12fd074eaaf5576f783694c875b02402035e64205ed1422a50f1673ed8e28011967b718067315cdbca92448f43fb98b0573c6b7eb21b08a17a42ea601f252cc406b760762149b66315b8963b0810a8902405086c10ec3b0034a6987363f0a967815fdcdc8b7871d6952d9d0e75f02d1fa43de1907d7ddfe63f73932f654ff576fb456b7519ffb999ff6180e7dacc4a9c9fb0241008894fca537b4a63000c8239ee21689a41dfd231b16ecdc7488b8cda8171670639446934b6c53698fe65952dcdfe4e290f71f1850d415cc0dde2bd049ff3e6896\n",
      "########Public KEY ################/n\n",
      "30819f300d06092a864886f70d010101050003818d0030818902818100f24d513261327e4167b48f26d8ed6ee579bdac0098761f0c74d1efb3bb8b0bfc15fba7cbbb7e0e288d1c544917db67b318b535061d2b1f3262a0e6521798b123502e0944e9b45434eea2a1c69d72c5e33730a84c4865be7472fe12722261daed8f0d90523f979c8cb70849ad15f57d201b8dd5e0262f739926db99aff96669f10203010001\n",
      "#################Signature#######################/n\n",
      "185d6e3856a6a34348d553b5f92596c58b4871abab039d4c2b618efef53cc0c2af0878f9514d9a07aef2a075c144168181142b26f1cf181f03aacca6fa3b9bb5643590b6c3aea6163654a1f6aea48bf89f86d2775dc817c517cde3014a1275866d1782417c95712dc580afb8e05c1849e724e3ceb477b9ace1201b3e05c9eae0\n"
     ]
    }
   ],
   "source": [
    "import binascii\n",
    "import Crypto\n",
    "import Crypto.Random\n",
    "from Crypto.Hash import SHA\n",
    "from Crypto.PublicKey import RSA\n",
    "from Crypto.Signature import PKCS1_v1_5\n",
    "\n",
    "Random_gen=Crypto.Random.new().read\n",
    "private_key=RSA.generate(1024,Random_gen)\n",
    "public_key=private_key.publickey()\n",
    "priv_key=binascii.hexlify(private_key.exportKey(format='DER')).decode('ascii')\n",
    "pub_key=binascii.hexlify(public_key.exportKey(format='DER')).decode('ascii')\n",
    "print(\"########Private KEY ################/n\")\n",
    "print (priv_key)\n",
    "print(\"########Public KEY ################/n\")\n",
    "print (pub_key)\n",
    "message=\"hello world\"\n",
    "private_key = RSA.importKey(binascii.unhexlify(priv_key))\n",
    "signer = PKCS1_v1_5.new(private_key)\n",
    "h = SHA.new(str(message).encode('utf8'))\n",
    "print(\"#################Signature#######################/n\")\n",
    "print(binascii.hexlify(signer.sign(h)).decode('ascii'))\n",
    "\n",
    " \n",
    "\n",
    "# message=\"hello world\"\n",
    "\n",
    "# h=SHA.new(message.encode('utf8'))\n",
    "\n",
    " \n",
    "\n",
    " \n",
    "\n",
    "# priv_key=RSA.importKey(binascii.unhexlify(private_key))\n",
    "\n",
    " \n",
    "\n",
    "# singer=PKCS1_v1_5.new(priv_key)\n",
    "\n",
    "# print(binascii.hexlify(singer.sign(h)).decode('ascii'))\n",
    "\n",
    " "
   ]
  },
  {
   "cell_type": "code",
   "execution_count": null,
   "metadata": {},
   "outputs": [],
   "source": []
  }
 ],
 "metadata": {
  "kernelspec": {
   "display_name": "Python 3",
   "language": "python",
   "name": "python3"
  },
  "language_info": {
   "codemirror_mode": {
    "name": "ipython",
    "version": 3
   },
   "file_extension": ".py",
   "mimetype": "text/x-python",
   "name": "python",
   "nbconvert_exporter": "python",
   "pygments_lexer": "ipython3",
   "version": "3.6.4"
  }
 },
 "nbformat": 4,
 "nbformat_minor": 2
}
